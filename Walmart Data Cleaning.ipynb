{
 "cells": [
  {
   "cell_type": "markdown",
   "id": "d512bd01",
   "metadata": {},
   "source": [
    "# Assignment -- Walmart\n",
    "\n",
    "The Management team at Walmart Inc. wants to analyze the customer purchase behavior (specifically, purchase amount) against the customer’s gender and the various other factors to help the business make better decisions. They want to understand if the spending habits differ between male and female customers: Do women spend more on Black Friday than men?"
   ]
  },
  {
   "cell_type": "markdown",
   "id": "8673b9f0",
   "metadata": {},
   "source": [
    "Data Description\n",
    "\n",
    "The company collected the transactional data of customers who purchased products from Walmart Stores during Black Friday. The dataset in walmart_data.csv has the following features:\n",
    "\n",
    "User_ID\n",
    "Product_ID\n",
    "Gender - sex of a customer\n",
    "Age - age in bins\n",
    "Occupation (masked)\n",
    "City_Category - category of the city [A, B, C]\n",
    "Stay_In_Current_City_Years: number of years a customer stays in their current city\n",
    "Marital_Status\n",
    "Product_Category (masked)\n",
    "Purchase - purchase amount\n",
    "Practicalities\n",
    "\n",
    "For simplicity, you may assume that 50% of Walmart`s customer base are Male and the other 50% are Female.\n",
    "\n",
    "Analyze the provided data and provide insights to the best of your abilities. Include the relevant tables/graphs/visualization to explain what you have learned about the market. Make sure that the solution reflects your entire thought process including the preparation of data - it is more important how the code is structured rather than just the final result or plot."
   ]
  },
  {
   "cell_type": "code",
   "execution_count": 54,
   "id": "58606293",
   "metadata": {},
   "outputs": [],
   "source": [
    "import pandas as pd\n",
    "import ast\n",
    "from collections import defaultdict\n",
    "import numpy as np\n",
    "import warnings\n",
    "warnings.filterwarnings(\"ignore\")\n",
    "import matplotlib.pyplot as plt\n",
    "%matplotlib inline\n",
    "import seaborn as sns\n",
    "from scipy import stats\n",
    "from scipy.stats import norm\n",
    "import gender_guesser.detector as gender\n",
    "predictor = gender.Detector()"
   ]
  },
  {
   "cell_type": "code",
   "execution_count": 55,
   "id": "0a703ca2",
   "metadata": {},
   "outputs": [],
   "source": [
    "walmart = pd.read_csv('walmart_data.csv')"
   ]
  },
  {
   "cell_type": "markdown",
   "id": "aa0686e9",
   "metadata": {},
   "source": [
    "## Data Overview"
   ]
  },
  {
   "cell_type": "code",
   "execution_count": 56,
   "id": "c71a873c",
   "metadata": {},
   "outputs": [
    {
     "data": {
      "text/html": [
       "<div>\n",
       "<style scoped>\n",
       "    .dataframe tbody tr th:only-of-type {\n",
       "        vertical-align: middle;\n",
       "    }\n",
       "\n",
       "    .dataframe tbody tr th {\n",
       "        vertical-align: top;\n",
       "    }\n",
       "\n",
       "    .dataframe thead th {\n",
       "        text-align: right;\n",
       "    }\n",
       "</style>\n",
       "<table border=\"1\" class=\"dataframe\">\n",
       "  <thead>\n",
       "    <tr style=\"text-align: right;\">\n",
       "      <th></th>\n",
       "      <th>User_ID</th>\n",
       "      <th>Product_ID</th>\n",
       "      <th>Gender</th>\n",
       "      <th>Age</th>\n",
       "      <th>Occupation</th>\n",
       "      <th>City_Category</th>\n",
       "      <th>Stay_In_Current_City_Years</th>\n",
       "      <th>Marital_Status</th>\n",
       "      <th>Product_Category</th>\n",
       "      <th>Purchase</th>\n",
       "    </tr>\n",
       "  </thead>\n",
       "  <tbody>\n",
       "    <tr>\n",
       "      <th>0</th>\n",
       "      <td>1000001</td>\n",
       "      <td>P00069042</td>\n",
       "      <td>F</td>\n",
       "      <td>0-17</td>\n",
       "      <td>10</td>\n",
       "      <td>A</td>\n",
       "      <td>2</td>\n",
       "      <td>0</td>\n",
       "      <td>3</td>\n",
       "      <td>8370</td>\n",
       "    </tr>\n",
       "    <tr>\n",
       "      <th>1</th>\n",
       "      <td>1000001</td>\n",
       "      <td>P00248942</td>\n",
       "      <td>F</td>\n",
       "      <td>0-17</td>\n",
       "      <td>10</td>\n",
       "      <td>A</td>\n",
       "      <td>2</td>\n",
       "      <td>0</td>\n",
       "      <td>1</td>\n",
       "      <td>15200</td>\n",
       "    </tr>\n",
       "    <tr>\n",
       "      <th>2</th>\n",
       "      <td>1000001</td>\n",
       "      <td>P00087842</td>\n",
       "      <td>F</td>\n",
       "      <td>0-17</td>\n",
       "      <td>10</td>\n",
       "      <td>A</td>\n",
       "      <td>2</td>\n",
       "      <td>0</td>\n",
       "      <td>12</td>\n",
       "      <td>1422</td>\n",
       "    </tr>\n",
       "    <tr>\n",
       "      <th>3</th>\n",
       "      <td>1000001</td>\n",
       "      <td>P00085442</td>\n",
       "      <td>F</td>\n",
       "      <td>0-17</td>\n",
       "      <td>10</td>\n",
       "      <td>A</td>\n",
       "      <td>2</td>\n",
       "      <td>0</td>\n",
       "      <td>12</td>\n",
       "      <td>1057</td>\n",
       "    </tr>\n",
       "    <tr>\n",
       "      <th>4</th>\n",
       "      <td>1000002</td>\n",
       "      <td>P00285442</td>\n",
       "      <td>M</td>\n",
       "      <td>55+</td>\n",
       "      <td>16</td>\n",
       "      <td>C</td>\n",
       "      <td>4+</td>\n",
       "      <td>0</td>\n",
       "      <td>8</td>\n",
       "      <td>7969</td>\n",
       "    </tr>\n",
       "  </tbody>\n",
       "</table>\n",
       "</div>"
      ],
      "text/plain": [
       "   User_ID Product_ID Gender   Age  Occupation City_Category  \\\n",
       "0  1000001  P00069042      F  0-17          10             A   \n",
       "1  1000001  P00248942      F  0-17          10             A   \n",
       "2  1000001  P00087842      F  0-17          10             A   \n",
       "3  1000001  P00085442      F  0-17          10             A   \n",
       "4  1000002  P00285442      M   55+          16             C   \n",
       "\n",
       "  Stay_In_Current_City_Years  Marital_Status  Product_Category  Purchase  \n",
       "0                          2               0                 3      8370  \n",
       "1                          2               0                 1     15200  \n",
       "2                          2               0                12      1422  \n",
       "3                          2               0                12      1057  \n",
       "4                         4+               0                 8      7969  "
      ]
     },
     "execution_count": 56,
     "metadata": {},
     "output_type": "execute_result"
    }
   ],
   "source": [
    "walmart.head()"
   ]
  },
  {
   "cell_type": "code",
   "execution_count": 57,
   "id": "b60cf96b",
   "metadata": {},
   "outputs": [
    {
     "data": {
      "text/plain": [
       "User_ID                        int64\n",
       "Product_ID                    object\n",
       "Gender                        object\n",
       "Age                           object\n",
       "Occupation                     int64\n",
       "City_Category                 object\n",
       "Stay_In_Current_City_Years    object\n",
       "Marital_Status                 int64\n",
       "Product_Category               int64\n",
       "Purchase                       int64\n",
       "dtype: object"
      ]
     },
     "execution_count": 57,
     "metadata": {},
     "output_type": "execute_result"
    }
   ],
   "source": [
    "walmart.dtypes"
   ]
  },
  {
   "cell_type": "code",
   "execution_count": 58,
   "id": "ae1f971e",
   "metadata": {},
   "outputs": [
    {
     "data": {
      "text/plain": [
       "(550068, 10)"
      ]
     },
     "execution_count": 58,
     "metadata": {},
     "output_type": "execute_result"
    }
   ],
   "source": [
    "walmart.shape"
   ]
  },
  {
   "cell_type": "markdown",
   "id": "3cdee7b8",
   "metadata": {},
   "source": [
    "Find unique values in each coloumn"
   ]
  },
  {
   "cell_type": "code",
   "execution_count": 63,
   "id": "57599186",
   "metadata": {},
   "outputs": [
    {
     "name": "stdout",
     "output_type": "stream",
     "text": [
      "\n",
      "Unique Values of User_ID:  [1000001 1000002 1000003 ... 1004113 1005391 1001529]\n",
      "\n",
      "Unique Values of Product_ID:  ['P00069042' 'P00248942' 'P00087842' ... 'P00370293' 'P00371644'\n",
      " 'P00370853']\n",
      "\n",
      "Unique Values of Gender:  ['F' 'M']\n",
      "\n",
      "Unique Values of Age:  ['0-17' '55+' '26-35' '46-50' '51-55' '36-45' '18-25']\n",
      "\n",
      "Unique Values of Occupation:  [10 16 15  7 20  9  1 12 17  0  3  4 11  8 19  2 18  5 14 13  6]\n",
      "\n",
      "Unique Values of City_Category:  ['A' 'C' 'B']\n",
      "\n",
      "Unique Values of Stay_In_Current_City_Years:  ['2' '4+' '3' '1' '0']\n",
      "\n",
      "Unique Values of Marital_Status:  [0 1]\n",
      "\n",
      "Unique Values of Product_Category:  [ 3  1 12  8  5  4  2  6 14 11 13 15  7 16 18 10 17  9 20 19]\n",
      "\n",
      "Unique Values of Purchase:  [ 8370 15200  1422 ...   135   123   613]\n"
     ]
    }
   ],
   "source": [
    "def print_unique_values(df):\n",
    "    for column in df.columns:\n",
    "        unique_values = df[column].unique()\n",
    "        print(f\"\\nUnique Values of {column}: \", unique_values)\n",
    "\n",
    "# Example usage\n",
    "print_unique_values(walmart)"
   ]
  },
  {
   "cell_type": "code",
   "execution_count": 65,
   "id": "f888b8a1",
   "metadata": {},
   "outputs": [
    {
     "name": "stdout",
     "output_type": "stream",
     "text": [
      "\n",
      "Unique Values of User_ID:  5891\n",
      "\n",
      "Unique Values of Product_ID:  3631\n",
      "\n",
      "Unique Values of Gender:  2\n",
      "\n",
      "Unique Values of Age:  7\n",
      "\n",
      "Unique Values of Occupation:  21\n",
      "\n",
      "Unique Values of City_Category:  3\n",
      "\n",
      "Unique Values of Stay_In_Current_City_Years:  5\n",
      "\n",
      "Unique Values of Marital_Status:  2\n",
      "\n",
      "Unique Values of Product_Category:  20\n",
      "\n",
      "Unique Values of Purchase:  18105\n"
     ]
    }
   ],
   "source": [
    "def print_nunique_values(df):\n",
    "    for column in df.columns:\n",
    "        unique_values = df[column].nunique()\n",
    "        print(f\"\\nUnique Values of {column}: \", unique_values)\n",
    "\n",
    "# Example usage\n",
    "print_nunique_values(walmart)"
   ]
  },
  {
   "cell_type": "markdown",
   "id": "33d2c020",
   "metadata": {},
   "source": [
    "## Data Cleaning"
   ]
  },
  {
   "cell_type": "code",
   "execution_count": 59,
   "id": "7336074a",
   "metadata": {},
   "outputs": [
    {
     "data": {
      "text/plain": [
       "False"
      ]
     },
     "execution_count": 59,
     "metadata": {},
     "output_type": "execute_result"
    }
   ],
   "source": [
    "walmart.isnull().values.any()"
   ]
  },
  {
   "cell_type": "markdown",
   "id": "17812078",
   "metadata": {},
   "source": [
    "The \"False\" value indicates that there are no null values"
   ]
  },
  {
   "cell_type": "code",
   "execution_count": 62,
   "id": "28a35252",
   "metadata": {},
   "outputs": [
    {
     "name": "stdout",
     "output_type": "stream",
     "text": [
      "Number of duplicated values:  0\n"
     ]
    }
   ],
   "source": [
    "print(\"Number of duplicated values: \", walmart.duplicated().sum())"
   ]
  },
  {
   "cell_type": "code",
   "execution_count": null,
   "id": "2dd9cac7",
   "metadata": {},
   "outputs": [],
   "source": []
  }
 ],
 "metadata": {
  "kernelspec": {
   "display_name": "Python 3 (ipykernel)",
   "language": "python",
   "name": "python3"
  },
  "language_info": {
   "codemirror_mode": {
    "name": "ipython",
    "version": 3
   },
   "file_extension": ".py",
   "mimetype": "text/x-python",
   "name": "python",
   "nbconvert_exporter": "python",
   "pygments_lexer": "ipython3",
   "version": "3.11.5"
  }
 },
 "nbformat": 4,
 "nbformat_minor": 5
}
